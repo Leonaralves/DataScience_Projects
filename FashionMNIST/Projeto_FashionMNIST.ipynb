{
 "cells": [
  {
   "cell_type": "markdown",
   "metadata": {
    "colab_type": "text",
    "id": "gSliHPjDgXAh"
   },
   "source": [
    "# <font color='black'>Aplicação de Convolutional Neural Networks nos dados do Fashion MNIST</font>\n",
    "## <font color='black'>Leonara Alves</font>"
   ]
  },
  {
   "cell_type": "markdown",
   "metadata": {
    "colab_type": "text",
    "id": "O3bqiuRWgXAl"
   },
   "source": [
    "As Redes Neurais Convolucionais (CNNs) são uma tecnologia muito utilizada para classificar problemas que envolvem imagens, sendo o estado da arte em redes neurais para solucionar problemas de Visão Computacional. \n",
    "\n",
    "O objetivo desse projeto é apresentar uma aplicação básica das CNNs nos dados do Fashion MNIST, popularmente conhecido e disponibilizado pelo Keras."
   ]
  },
  {
   "cell_type": "markdown",
   "metadata": {
    "colab_type": "text",
    "id": "jV2qPq46gXAn"
   },
   "source": [
    "## Conjunto de dados Fashion MNIST\n",
    "\n",
    "O conjunto de dados do Fashion MNIST contém 70.000 imagens em tons de cinza divididas em 10 classes. Essas imagens possuem uma baixa resolução (28x28 pixels) e, por isso, são um ótimo desafio para iniciantes testarem suas redes neurais convolucionais. Sua divisão para treinamento consiste em 60.000 imagens e para teste de 10.000 imagens.\n",
    "\n",
    "![Fashion](images/fashion-mnist-sprite.png \"Fashion\")\n",
    "\n"
   ]
  },
  {
   "cell_type": "markdown",
   "metadata": {
    "colab_type": "text",
    "id": "sSZACXiLgXAq"
   },
   "source": [
    "## Importação dos Pacotes e dos Dados"
   ]
  },
  {
   "cell_type": "markdown",
   "metadata": {},
   "source": [
    "Para esses dados, vamos utilizar somente os pacotes básicos para a visualização dos resultados, construção do modelo e preparação dos dados."
   ]
  },
  {
   "cell_type": "code",
   "execution_count": 1,
   "metadata": {
    "colab": {},
    "colab_type": "code",
    "id": "gh8U01XDgXAq"
   },
   "outputs": [
    {
     "name": "stderr",
     "output_type": "stream",
     "text": [
      "Using TensorFlow backend.\n"
     ]
    }
   ],
   "source": [
    "# Importando os pacotes para serem utilizados\n",
    "import tensorflow as tf              \n",
    "import numpy as np                   \n",
    "import pandas as pd                  \n",
    "import keras                         \n",
    "import sklearn                       \n",
    "import matplotlib.pyplot as plt                    "
   ]
  },
  {
   "cell_type": "markdown",
   "metadata": {},
   "source": [
    "O próprio Keras fornece acesso aos dados do Fashion MNIST. Esses dados já chegam separados em dados de treinamento e de teste, perfeitamente amigáveis para a utilização."
   ]
  },
  {
   "cell_type": "code",
   "execution_count": 2,
   "metadata": {
    "colab": {
     "base_uri": "https://localhost:8080/",
     "height": 102
    },
    "colab_type": "code",
    "id": "rwKcHUw_gXAw",
    "outputId": "fa5d17d2-518f-4360-e44a-afeecca15c3a"
   },
   "outputs": [],
   "source": [
    "# Importando os dados do fashion mnist\n",
    "from keras.datasets import fashion_mnist\n",
    "\n",
    "# Treino e Teste\n",
    "(x_train, y_train), (x_test, y_test) = fashion_mnist.load_data()"
   ]
  },
  {
   "cell_type": "markdown",
   "metadata": {},
   "source": [
    "Os dados de x_train e y_train serão nossos dados de treinamento, com o x_train contendo os pixels das imagens e y_train contendo as classes de cada imagem; e x_test e y_test serão nossos dados de teste, com o x_test contendo os pixels das imagens e y_train contendo as classes de cada imagem "
   ]
  },
  {
   "cell_type": "markdown",
   "metadata": {},
   "source": [
    "Vamos visualizar o shape dos dados de treinamento e de teste."
   ]
  },
  {
   "cell_type": "code",
   "execution_count": 3,
   "metadata": {},
   "outputs": [
    {
     "name": "stdout",
     "output_type": "stream",
     "text": [
      "Dados de Treinamento\n",
      "Shape x_train: (60000, 28, 28)\n",
      "Shape y_train: (60000,)\n",
      "\n",
      "Dados de Teste\n",
      "Shape x_test: (10000, 28, 28)\n",
      "Shape y_test: (10000,)\n"
     ]
    }
   ],
   "source": [
    "# Print do Shape dos dados\n",
    "print(\"Dados de Treinamento\")\n",
    "print(\"Shape x_train: {}\".format(x_train.shape))\n",
    "print(\"Shape y_train: {}\".format(y_train.shape))\n",
    "print()\n",
    "print(\"Dados de Teste\")\n",
    "print(\"Shape x_test: {}\".format(x_test.shape))\n",
    "print(\"Shape y_test: {}\".format(y_test.shape))"
   ]
  },
  {
   "cell_type": "markdown",
   "metadata": {},
   "source": [
    "Note que temos no shape de x_train 60.000 imagens de dimensão 28x28, ou seja, 28 pixels de largura e 28 pixels de altura, contendo no total 28x28 = 784 pixels."
   ]
  },
  {
   "cell_type": "markdown",
   "metadata": {
    "colab_type": "text",
    "id": "oBeAGHsrgXAy"
   },
   "source": [
    "## Visualizando as imagens"
   ]
  },
  {
   "cell_type": "markdown",
   "metadata": {},
   "source": [
    "Como somente temos os resultados das classes como valores de 0 a 9, vamos criar um dicionário para representar esses valores mais claramente em um gráfico."
   ]
  },
  {
   "cell_type": "markdown",
   "metadata": {},
   "source": [
    "![Classe](images/Classe_fmnist.png \"Classe\") "
   ]
  },
  {
   "cell_type": "code",
   "execution_count": 4,
   "metadata": {
    "colab": {},
    "colab_type": "code",
    "id": "W38yM4ylgXAy"
   },
   "outputs": [],
   "source": [
    "# Criando um pequeno dicionario para classificação\n",
    "nomes_classes = {'0': 'T-shirt/top' ,'1': 'Trouser', '2': 'Pullover', '3': 'Dress', '4': 'Coat',\n",
    "                '5': 'Sandal', '6': 'Shirt', '7': 'Sneaker', '8': 'Bag', '9': 'Ankle boot'}"
   ]
  },
  {
   "cell_type": "code",
   "execution_count": 5,
   "metadata": {
    "colab": {
     "base_uri": "https://localhost:8080/",
     "height": 211
    },
    "colab_type": "code",
    "id": "3M6yN0VwgXA1",
    "outputId": "b88479ca-c98e-49b3-c089-d89d1f9d067e"
   },
   "outputs": [
    {
     "data": {
      "image/png": "[encoded data removed]",
      "text/plain": [
       "<Figure size 504x504 with 9 Axes>"
      ]
     },
     "metadata": {},
     "output_type": "display_data"
    }
   ],
   "source": [
    "# Plotando algumas imagens do conjunto de dados (são muito pequenas, e por isso ficam borradas)\n",
    "fig = plt.figure(figsize = (7,7))\n",
    "fig.subplots_adjust(hspace = 0.6, wspace = 0.6)\n",
    "for i in range(9):\n",
    "    # definindo subplots\n",
    "    ax = fig.add_subplot(330 + 1 + i)\n",
    "    # plotando dados com seus títulos correspondentes\n",
    "    plt.imshow(x_train[i], cmap = 'gray')\n",
    "    plt.title(\"Classe: '{}'\".format(nomes_classes[str(y_train[i])]))\n",
    "    ax.set_xticks([])\n",
    "    ax.set_yticks([])"
   ]
  },
  {
   "cell_type": "markdown",
   "metadata": {},
   "source": [
    "Vamos verificar a contagem das classes nas bases de treinamento e de teste."
   ]
  },
  {
   "cell_type": "code",
   "execution_count": 6,
   "metadata": {
    "colab": {},
    "colab_type": "code",
    "id": "7neXhVy9gXA3"
   },
   "outputs": [],
   "source": [
    "# Criando uma função para visualizar a quantidade de classes nas bases\n",
    "def count_classes(array):\n",
    "    contagem = [np.count_nonzero(array == i) for i in range(0, 10)]\n",
    "    return contagem"
   ]
  },
  {
   "cell_type": "code",
   "execution_count": 7,
   "metadata": {
    "colab": {
     "base_uri": "https://localhost:8080/",
     "height": 34
    },
    "colab_type": "code",
    "id": "Tzf7vIt1gXA5",
    "outputId": "91eb6bc1-1edb-479c-c179-39395f4939f7"
   },
   "outputs": [
    {
     "data": {
      "text/plain": [
       "[6000, 6000, 6000, 6000, 6000, 6000, 6000, 6000, 6000, 6000]"
      ]
     },
     "execution_count": 7,
     "metadata": {},
     "output_type": "execute_result"
    }
   ],
   "source": [
    "# Visualizando a quantidade de classes na base de treino\n",
    "count_classes(y_train)"
   ]
  },
  {
   "cell_type": "code",
   "execution_count": 8,
   "metadata": {
    "colab": {
     "base_uri": "https://localhost:8080/",
     "height": 34
    },
    "colab_type": "code",
    "id": "I_UffqX3gXA8",
    "outputId": "c38f7493-54ed-42d9-e0eb-daba39c4cb4c"
   },
   "outputs": [
    {
     "data": {
      "text/plain": [
       "[1000, 1000, 1000, 1000, 1000, 1000, 1000, 1000, 1000, 1000]"
      ]
     },
     "execution_count": 8,
     "metadata": {},
     "output_type": "execute_result"
    }
   ],
   "source": [
    "# Visualizando a quantidade de classes nas base de teste\n",
    "count_classes(y_test)"
   ]
  },
  {
   "cell_type": "markdown",
   "metadata": {},
   "source": [
    "Observe que todas as classes são balanceadas nos dados de treinamento e de teste."
   ]
  },
  {
   "cell_type": "markdown",
   "metadata": {
    "colab_type": "text",
    "id": "c3w4Txl_gXA-"
   },
   "source": [
    "## Preparando os Dados"
   ]
  },
  {
   "cell_type": "code",
   "execution_count": 9,
   "metadata": {
    "colab": {},
    "colab_type": "code",
    "id": "vivlOe5pgXA_"
   },
   "outputs": [],
   "source": [
    "# Input das dimensões das imagens\n",
    "img_rows, img_cols = 28, 28"
   ]
  },
  {
   "cell_type": "code",
   "execution_count": 10,
   "metadata": {
    "colab": {},
    "colab_type": "code",
    "id": "tELDxEVJgXBB"
   },
   "outputs": [],
   "source": [
    "# Conversão para float32 (obrigatório) \n",
    "x_train = x_train.astype('float32')\n",
    "x_test = x_test.astype('float32')"
   ]
  },
  {
   "cell_type": "markdown",
   "metadata": {},
   "source": [
    "Os dados são formados por pixels de 0 a 255, neste caso, precisamos normalizá-los para uma escala de 0 a 1 para treinar o modelo. Nesse caso, precisamos somente dividí-los por 255."
   ]
  },
  {
   "cell_type": "code",
   "execution_count": 11,
   "metadata": {
    "colab": {},
    "colab_type": "code",
    "id": "4iMPojFzgXBD"
   },
   "outputs": [],
   "source": [
    "# Escala dos dados [0, 255] -> [0, 1]\n",
    "x_train /= 255.0\n",
    "x_test /= 255.0"
   ]
  },
  {
   "cell_type": "markdown",
   "metadata": {},
   "source": [
    "Para o treinamento do modelo, vamos fazer uso dos dados de treinamento, validação e de teste. Como o Keras só disponibiliza dados de treinamento e de teste, vamos separar 20% dos dados de treinamento para validação mantendo o balanceamento entre as classes com o comando 'stratify'."
   ]
  },
  {
   "cell_type": "code",
   "execution_count": 12,
   "metadata": {},
   "outputs": [],
   "source": [
    "# Importando pacote para separação dos dados de treino e validação\n",
    "from sklearn.model_selection import train_test_split"
   ]
  },
  {
   "cell_type": "code",
   "execution_count": 13,
   "metadata": {},
   "outputs": [],
   "source": [
    "# Separação dos dados de treino e validação\n",
    "x_train, x_val, y_train, y_val = train_test_split(x_train, y_train, test_size = 0.2, random_state = 42, stratify = y_train)"
   ]
  },
  {
   "cell_type": "code",
   "execution_count": 14,
   "metadata": {},
   "outputs": [
    {
     "data": {
      "text/plain": [
       "[4800, 4800, 4800, 4800, 4800, 4800, 4800, 4800, 4800, 4800]"
      ]
     },
     "execution_count": 14,
     "metadata": {},
     "output_type": "execute_result"
    }
   ],
   "source": [
    "# Visualizando a quantidade de classes na base de treino\n",
    "count_classes(y_train)"
   ]
  },
  {
   "cell_type": "code",
   "execution_count": 15,
   "metadata": {},
   "outputs": [
    {
     "data": {
      "text/plain": [
       "[1200, 1200, 1200, 1200, 1200, 1200, 1200, 1200, 1200, 1200]"
      ]
     },
     "execution_count": 15,
     "metadata": {},
     "output_type": "execute_result"
    }
   ],
   "source": [
    "# Visualizando a quantidade de classes na base de validação\n",
    "count_classes(y_val)"
   ]
  },
  {
   "cell_type": "code",
   "execution_count": 16,
   "metadata": {},
   "outputs": [],
   "source": [
    "# Definindo o numero de classes\n",
    "num_classes = 10"
   ]
  },
  {
   "cell_type": "code",
   "execution_count": 17,
   "metadata": {},
   "outputs": [
    {
     "data": {
      "text/plain": [
       "array([9, 2, 1, ..., 8, 1, 5], dtype=uint8)"
      ]
     },
     "execution_count": 17,
     "metadata": {},
     "output_type": "execute_result"
    }
   ],
   "source": [
    "# Vamos visualizar como estão nossos dados de teste\n",
    "y_test"
   ]
  },
  {
   "cell_type": "markdown",
   "metadata": {},
   "source": [
    "Para o treinamento do modelo, devemos transformar nossos dados em formato binário da seguinte forma:\n",
    "![Categoria](images/Classe_fmnist_categoria.png \"Categoria\") \n",
    "\n",
    "Dessa forma, cada neurônio de saída será representado por uma classe. Podemos utilizar a função do keras chamada de \"to_categorical\" que fornece os resultados após essas transformações."
   ]
  },
  {
   "cell_type": "code",
   "execution_count": 18,
   "metadata": {},
   "outputs": [],
   "source": [
    "# Converte vetores de classe para matrizes de classe binária\n",
    "y_train = keras.utils.to_categorical(y_train, num_classes)\n",
    "y_val = keras.utils.to_categorical(y_val, num_classes)\n",
    "y_test = keras.utils.to_categorical(y_test, num_classes)"
   ]
  },
  {
   "cell_type": "code",
   "execution_count": 19,
   "metadata": {},
   "outputs": [
    {
     "data": {
      "text/plain": [
       "array([[0., 0., 0., ..., 0., 0., 0.],\n",
       "       [0., 0., 0., ..., 0., 0., 0.],\n",
       "       [0., 0., 0., ..., 0., 0., 0.],\n",
       "       ...,\n",
       "       [0., 0., 0., ..., 0., 0., 0.],\n",
       "       [0., 0., 0., ..., 1., 0., 0.],\n",
       "       [0., 1., 0., ..., 0., 0., 0.]], dtype=float32)"
      ]
     },
     "execution_count": 19,
     "metadata": {},
     "output_type": "execute_result"
    }
   ],
   "source": [
    "# Observando como ficaram os dados de treinamento após a transformação\n",
    "y_train"
   ]
  },
  {
   "cell_type": "code",
   "execution_count": 20,
   "metadata": {},
   "outputs": [
    {
     "data": {
      "text/plain": [
       "array([[0., 0., 0., ..., 0., 0., 0.],\n",
       "       [0., 0., 0., ..., 0., 0., 0.],\n",
       "       [0., 0., 0., ..., 0., 0., 0.],\n",
       "       ...,\n",
       "       [0., 0., 0., ..., 0., 1., 0.],\n",
       "       [0., 0., 1., ..., 0., 0., 0.],\n",
       "       [0., 0., 0., ..., 0., 1., 0.]], dtype=float32)"
      ]
     },
     "execution_count": 20,
     "metadata": {},
     "output_type": "execute_result"
    }
   ],
   "source": [
    "# Observando como ficaram os dados de validação após a transformação\n",
    "y_val"
   ]
  },
  {
   "cell_type": "markdown",
   "metadata": {},
   "source": [
    "Para o treinamento de uma CNN, precisamos deixar os dados em um formato específico. Esse formato é caracterizado por imagens com dimensão: (largura, altura, profundidade). Como temos somente imagens em escala de cinza, o valor da profundidade é igual a 1, porém se fosse em uma escala RGB (red, green, blue) a profundidade seria igual a 3. Sendo assim, devemos deixar o shape para a entrada dos dados no modelo com o formato de (28, 28, 1)."
   ]
  },
  {
   "cell_type": "code",
   "execution_count": 21,
   "metadata": {},
   "outputs": [],
   "source": [
    "# importando o pacote para verificação da dimensão\n",
    "from keras import backend as backend"
   ]
  },
  {
   "cell_type": "code",
   "execution_count": 22,
   "metadata": {},
   "outputs": [
    {
     "data": {
      "text/plain": [
       "'channels_last'"
      ]
     },
     "execution_count": 22,
     "metadata": {},
     "output_type": "execute_result"
    }
   ],
   "source": [
    "# Verificando onde a dimensão de cores estão nos dados (profundidade, altura, largura) ou (altura, largura, profundidade)\n",
    "backend.image_data_format()"
   ]
  },
  {
   "cell_type": "code",
   "execution_count": 23,
   "metadata": {
    "colab": {
     "base_uri": "https://localhost:8080/",
     "height": 85
    },
    "colab_type": "code",
    "id": "giGF_GvSgXBI",
    "outputId": "73961538-3c17-4fe4-8ee1-59d3b8283932"
   },
   "outputs": [],
   "source": [
    "# Reshape dos dados de treino e de teste e input_shape\n",
    "if backend.image_data_format() == 'channels_first':\n",
    "    x_train = x_train.reshape(x_train.shape[0], 1, img_rows, img_cols)\n",
    "    x_val = x_val.reshape(x_val.shape[0], 1, img_rows, img_cols)\n",
    "    x_test = x_test.reshape(x_test.shape[0], 1, img_rows, img_cols)\n",
    "    input_shape = (1, img_rows, img_cols)\n",
    "else:\n",
    "    x_train = x_train.reshape(x_train.shape[0], img_rows, img_cols, 1)\n",
    "    x_val = x_val.reshape(x_val.shape[0], img_rows, img_cols, 1)\n",
    "    x_test = x_test.reshape(x_test.shape[0], img_rows, img_cols, 1)\n",
    "    input_shape = (img_rows, img_cols, 1)"
   ]
  },
  {
   "cell_type": "code",
   "execution_count": 24,
   "metadata": {},
   "outputs": [
    {
     "name": "stdout",
     "output_type": "stream",
     "text": [
      "x_train shape: (48000, 28, 28, 1)\n",
      "Exemplos dos dados de Treinamento: 48000\n",
      "Exemplos dos dados de Validação: 12000\n",
      "Exemplos dos dados de Teste: 10000\n",
      "Input Shape: (28, 28, 1)\n"
     ]
    }
   ],
   "source": [
    "# Print do reshape dos dados\n",
    "print('x_train shape:', x_train.shape)\n",
    "print(\"Exemplos dos dados de Treinamento: {}\".format(x_train.shape[0]))\n",
    "print(\"Exemplos dos dados de Validação: {}\".format(x_val.shape[0]))\n",
    "print(\"Exemplos dos dados de Teste: {}\".format(x_test.shape[0]))\n",
    "print(\"Input Shape: {}\".format(input_shape))"
   ]
  },
  {
   "cell_type": "markdown",
   "metadata": {
    "colab_type": "text",
    "id": "PBo9s3fegXBK"
   },
   "source": [
    "## Definindo a CNN"
   ]
  },
  {
   "cell_type": "markdown",
   "metadata": {},
   "source": [
    "Agora vamos criar a arquitetura do nosso modelo. Para isso, vamos importar alguns pacotes disponíveis no Keras que serão usados para a construção do modelo."
   ]
  },
  {
   "cell_type": "code",
   "execution_count": 25,
   "metadata": {
    "colab": {},
    "colab_type": "code",
    "id": "oaX47F5XgXBL"
   },
   "outputs": [],
   "source": [
    "# Importação dos pacotes para o modelo de CNN \n",
    "from keras.models import Sequential\n",
    "from keras.layers import Dense, Dropout, Flatten\n",
    "from keras.layers import Conv2D, MaxPooling2D"
   ]
  },
  {
   "cell_type": "markdown",
   "metadata": {},
   "source": [
    "Vamos definir o número de épocas igual a 50 (quantidade de passadas por todo o conjunto de treinamento) e o tamanho do batch em cada época igual a 128 (divisão  do conjunto de treinamento em pedaços menores)."
   ]
  },
  {
   "cell_type": "code",
   "execution_count": 26,
   "metadata": {},
   "outputs": [],
   "source": [
    "# Definindo os hiperparâmetros\n",
    "batch_size = 128   \n",
    "epochs = 50"
   ]
  },
  {
   "cell_type": "markdown",
   "metadata": {},
   "source": [
    "### Arquitetura do Modelo\n",
    "\n",
    "#### O modelo seguirá os seguintes passos:\n",
    "1. Camada de Convolution, 16 filtros e tamanho de kernel igual a 3 \n",
    "2. Camada de Max Pooling, com o pool size igual a 2\n",
    "3. Camada de Dropout, com probabilidade de Dropout igual a 0.2\n",
    "4. Camada de Convolution, 32 filtros e tamanho de kernel igual a 3 \n",
    "5. Camada de Max pooling, com o pool size igual a 2\n",
    "6. Camada de Dropout, com probabilidade de Dropout igual a 0.2\n",
    "7. Camada de Flattening\n",
    "8. Camada de Full Connection (ou Dense), com 128 neurônios\n",
    "9. Camada de Dropout, com probabilidade de Dropout igual a 0.50\n",
    "10. Camada de Full Connection (ou camada de saída), com 10 neurônios (10 possíveis saídas)"
   ]
  },
  {
   "cell_type": "code",
   "execution_count": 27,
   "metadata": {
    "colab": {},
    "colab_type": "code",
    "id": "o5Px7hTBgXBR"
   },
   "outputs": [],
   "source": [
    "# Modelo CNN\n",
    "def create_model():\n",
    "    model = Sequential()\n",
    "    model.add(Conv2D(filters = 16, kernel_size = 3, padding = 'same', activation = 'relu', input_shape = input_shape))\n",
    "    model.add(MaxPooling2D(pool_size = 2))\n",
    "    model.add(Dropout(0.2))\n",
    "    model.add(Conv2D(filters = 32, kernel_size = 3, padding = 'same', activation = 'relu'))\n",
    "    model.add(MaxPooling2D(pool_size = 2))\n",
    "    model.add(Dropout(0.2))\n",
    "    model.add(Flatten())\n",
    "    model.add(Dense(128, activation = 'relu'))\n",
    "    model.add(Dropout(0.5))\n",
    "    model.add(Dense(10, activation = 'softmax'))\n",
    "    return model"
   ]
  },
  {
   "cell_type": "code",
   "execution_count": 28,
   "metadata": {},
   "outputs": [],
   "source": [
    "# Instanciando o modelo\n",
    "model = create_model()"
   ]
  },
  {
   "cell_type": "code",
   "execution_count": 29,
   "metadata": {
    "colab": {
     "base_uri": "https://localhost:8080/",
     "height": 561
    },
    "colab_type": "code",
    "id": "TByw2yFTgXBS",
    "outputId": "69c292e9-b02f-4fba-ad5c-72ec0fca1d9f"
   },
   "outputs": [
    {
     "name": "stdout",
     "output_type": "stream",
     "text": [
      "Model: \"sequential_1\"\n",
      "_________________________________________________________________\n",
      "Layer (type)                 Output Shape              Param #   \n",
      "=================================================================\n",
      "conv2d_1 (Conv2D)            (None, 28, 28, 16)        160       \n",
      "_________________________________________________________________\n",
      "max_pooling2d_1 (MaxPooling2 (None, 14, 14, 16)        0         \n",
      "_________________________________________________________________\n",
      "dropout_1 (Dropout)          (None, 14, 14, 16)        0         \n",
      "_________________________________________________________________\n",
      "conv2d_2 (Conv2D)            (None, 14, 14, 32)        4640      \n",
      "_________________________________________________________________\n",
      "max_pooling2d_2 (MaxPooling2 (None, 7, 7, 32)          0         \n",
      "_________________________________________________________________\n",
      "dropout_2 (Dropout)          (None, 7, 7, 32)          0         \n",
      "_________________________________________________________________\n",
      "flatten_1 (Flatten)          (None, 1568)              0         \n",
      "_________________________________________________________________\n",
      "dense_1 (Dense)              (None, 128)               200832    \n",
      "_________________________________________________________________\n",
      "dropout_3 (Dropout)          (None, 128)               0         \n",
      "_________________________________________________________________\n",
      "dense_2 (Dense)              (None, 10)                1290      \n",
      "=================================================================\n",
      "Total params: 206,922\n",
      "Trainable params: 206,922\n",
      "Non-trainable params: 0\n",
      "_________________________________________________________________\n"
     ]
    }
   ],
   "source": [
    "# Sumário do modelo\n",
    "model.summary()"
   ]
  },
  {
   "cell_type": "markdown",
   "metadata": {},
   "source": [
    "Observe que temos 206,922 parâmetros que serão aprendidos por nossa rede neural."
   ]
  },
  {
   "cell_type": "markdown",
   "metadata": {},
   "source": [
    "Como temos 10 classes, vamos utilizar a métrica de cross-entropia para dados categóricos e a métrica de avaliação será a acurácia, mais comumente utilizada para dados de classificação. Além disso, vamos utilizar o otimizador Adadelta."
   ]
  },
  {
   "cell_type": "code",
   "execution_count": 30,
   "metadata": {
    "colab": {},
    "colab_type": "code",
    "id": "DcycKFaBgXBU"
   },
   "outputs": [],
   "source": [
    "# Compilação do modelo\n",
    "model.compile(loss = 'categorical_crossentropy', \n",
    "              optimizer = 'adadelta', \n",
    "              metrics = ['accuracy'])"
   ]
  },
  {
   "cell_type": "markdown",
   "metadata": {},
   "source": [
    "Para evitar o overfitting, vamos utilizar um procedimento de parada do treinamento da rede neural quando a perda nos dados de validação começam a aumentar ao invés de diminuir. Esse procedimento é chamado de 'Early Stopping' e também já está disponibilizado pelo Keras."
   ]
  },
  {
   "cell_type": "code",
   "execution_count": 31,
   "metadata": {},
   "outputs": [],
   "source": [
    "# Importando o Early Stopping\n",
    "from keras.callbacks import EarlyStopping"
   ]
  },
  {
   "cell_type": "code",
   "execution_count": 32,
   "metadata": {
    "colab": {},
    "colab_type": "code",
    "id": "UkzdQouwmA-6"
   },
   "outputs": [],
   "source": [
    "# Aplicando um early stopping\n",
    "monitor = EarlyStopping(monitor = 'val_loss', min_delta = 0.005, patience = 5, verbose = 1, restore_best_weights = True)"
   ]
  },
  {
   "cell_type": "markdown",
   "metadata": {},
   "source": [
    "Com o argumento 'patience' igual a 5, vamos esperar 5 épocas até o monitor finalizar o treinamento caso não obtivermos valores melhores no erro da função de perda."
   ]
  },
  {
   "cell_type": "markdown",
   "metadata": {
    "colab_type": "text",
    "id": "92nZLzDSgXBW"
   },
   "source": [
    "## Treinamento da CNN"
   ]
  },
  {
   "cell_type": "markdown",
   "metadata": {},
   "source": [
    "Vamos treinar nosso modelo utilizando os dados de treinamento e de validação,"
   ]
  },
  {
   "cell_type": "code",
   "execution_count": 33,
   "metadata": {
    "colab": {
     "base_uri": "https://localhost:8080/",
     "height": 1000
    },
    "colab_type": "code",
    "id": "GicsUPCVgXBX",
    "outputId": "8a9d9340-1f5a-447b-ea2c-06f74fa56161",
    "scrolled": false
   },
   "outputs": [
    {
     "name": "stdout",
     "output_type": "stream",
     "text": [
      "Train on 48000 samples, validate on 12000 samples\n",
      "Epoch 1/50\n",
      "48000/48000 [==============================] - 12s 260us/step - loss: 0.7568 - accuracy: 0.7224 - val_loss: 0.4325 - val_accuracy: 0.8468\n",
      "Epoch 2/50\n",
      "48000/48000 [==============================] - 12s 251us/step - loss: 0.4950 - accuracy: 0.8203 - val_loss: 0.3749 - val_accuracy: 0.8644\n",
      "Epoch 3/50\n",
      "48000/48000 [==============================] - 12s 244us/step - loss: 0.4380 - accuracy: 0.8416 - val_loss: 0.3396 - val_accuracy: 0.8792\n",
      "Epoch 4/50\n",
      "48000/48000 [==============================] - 12s 241us/step - loss: 0.4076 - accuracy: 0.8539 - val_loss: 0.3249 - val_accuracy: 0.8820\n",
      "Epoch 5/50\n",
      "48000/48000 [==============================] - 12s 245us/step - loss: 0.3814 - accuracy: 0.8639 - val_loss: 0.3062 - val_accuracy: 0.8885\n",
      "Epoch 6/50\n",
      "48000/48000 [==============================] - 12s 247us/step - loss: 0.3614 - accuracy: 0.8703 - val_loss: 0.2941 - val_accuracy: 0.8937\n",
      "Epoch 7/50\n",
      "48000/48000 [==============================] - 12s 255us/step - loss: 0.3499 - accuracy: 0.8743 - val_loss: 0.2937 - val_accuracy: 0.8932\n",
      "Epoch 8/50\n",
      "48000/48000 [==============================] - 12s 246us/step - loss: 0.3372 - accuracy: 0.8790 - val_loss: 0.2763 - val_accuracy: 0.8977\n",
      "Epoch 9/50\n",
      "48000/48000 [==============================] - 12s 243us/step - loss: 0.3262 - accuracy: 0.8826 - val_loss: 0.2723 - val_accuracy: 0.9030\n",
      "Epoch 10/50\n",
      "48000/48000 [==============================] - 12s 244us/step - loss: 0.3172 - accuracy: 0.8859 - val_loss: 0.2608 - val_accuracy: 0.9035\n",
      "Epoch 11/50\n",
      "48000/48000 [==============================] - 12s 242us/step - loss: 0.3109 - accuracy: 0.8881 - val_loss: 0.2614 - val_accuracy: 0.9039\n",
      "Epoch 12/50\n",
      "48000/48000 [==============================] - 12s 243us/step - loss: 0.3047 - accuracy: 0.8883 - val_loss: 0.2575 - val_accuracy: 0.9059\n",
      "Epoch 13/50\n",
      "48000/48000 [==============================] - 12s 247us/step - loss: 0.2963 - accuracy: 0.8908 - val_loss: 0.2492 - val_accuracy: 0.9101\n",
      "Epoch 14/50\n",
      "48000/48000 [==============================] - 12s 242us/step - loss: 0.2927 - accuracy: 0.8937 - val_loss: 0.2460 - val_accuracy: 0.9105\n",
      "Epoch 15/50\n",
      "48000/48000 [==============================] - 12s 246us/step - loss: 0.2898 - accuracy: 0.8948 - val_loss: 0.2388 - val_accuracy: 0.9133\n",
      "Epoch 16/50\n",
      "48000/48000 [==============================] - 12s 242us/step - loss: 0.2799 - accuracy: 0.8982 - val_loss: 0.2454 - val_accuracy: 0.9085\n",
      "Epoch 17/50\n",
      "48000/48000 [==============================] - 12s 241us/step - loss: 0.2772 - accuracy: 0.8996 - val_loss: 0.2331 - val_accuracy: 0.9143\n",
      "Epoch 18/50\n",
      "48000/48000 [==============================] - 12s 241us/step - loss: 0.2730 - accuracy: 0.9010 - val_loss: 0.2403 - val_accuracy: 0.9132\n",
      "Epoch 19/50\n",
      "48000/48000 [==============================] - 12s 241us/step - loss: 0.2689 - accuracy: 0.9015 - val_loss: 0.2323 - val_accuracy: 0.9173\n",
      "Epoch 20/50\n",
      "48000/48000 [==============================] - 12s 241us/step - loss: 0.2680 - accuracy: 0.9009 - val_loss: 0.2291 - val_accuracy: 0.9166\n",
      "Epoch 21/50\n",
      "48000/48000 [==============================] - 12s 241us/step - loss: 0.2617 - accuracy: 0.9061 - val_loss: 0.2334 - val_accuracy: 0.9162\n",
      "Epoch 22/50\n",
      "48000/48000 [==============================] - 12s 242us/step - loss: 0.2596 - accuracy: 0.9060 - val_loss: 0.2257 - val_accuracy: 0.9171\n",
      "Epoch 23/50\n",
      "48000/48000 [==============================] - 12s 242us/step - loss: 0.2587 - accuracy: 0.9067 - val_loss: 0.2247 - val_accuracy: 0.9178\n",
      "Epoch 24/50\n",
      "48000/48000 [==============================] - 12s 243us/step - loss: 0.2538 - accuracy: 0.9087 - val_loss: 0.2264 - val_accuracy: 0.9187\n",
      "Epoch 25/50\n",
      "48000/48000 [==============================] - 12s 241us/step - loss: 0.2532 - accuracy: 0.9091 - val_loss: 0.2308 - val_accuracy: 0.9191\n",
      "Epoch 26/50\n",
      "48000/48000 [==============================] - 12s 242us/step - loss: 0.2458 - accuracy: 0.9109 - val_loss: 0.2231 - val_accuracy: 0.9187\n",
      "Epoch 27/50\n",
      "48000/48000 [==============================] - 12s 242us/step - loss: 0.2492 - accuracy: 0.9100 - val_loss: 0.2182 - val_accuracy: 0.9202\n",
      "Epoch 28/50\n",
      "48000/48000 [==============================] - 12s 242us/step - loss: 0.2448 - accuracy: 0.9109 - val_loss: 0.2222 - val_accuracy: 0.9193\n",
      "Epoch 29/50\n",
      "48000/48000 [==============================] - 12s 242us/step - loss: 0.2421 - accuracy: 0.9115 - val_loss: 0.2220 - val_accuracy: 0.9213\n",
      "Epoch 30/50\n",
      "48000/48000 [==============================] - 12s 243us/step - loss: 0.2426 - accuracy: 0.9127 - val_loss: 0.2205 - val_accuracy: 0.9197\n",
      "Epoch 31/50\n",
      "48000/48000 [==============================] - 12s 243us/step - loss: 0.2388 - accuracy: 0.9134 - val_loss: 0.2259 - val_accuracy: 0.9199\n",
      "Epoch 32/50\n",
      "48000/48000 [==============================] - 12s 244us/step - loss: 0.2369 - accuracy: 0.9150 - val_loss: 0.2284 - val_accuracy: 0.9192\n",
      "Restoring model weights from the end of the best epoch\n",
      "Epoch 00032: early stopping\n"
     ]
    }
   ],
   "source": [
    "# Fit do modelo\n",
    "modelo_treinado = model.fit(x_train, y_train, \n",
    "                            batch_size = batch_size, \n",
    "                            epochs = epochs, \n",
    "                            verbose = 1, \n",
    "                            validation_data = (x_val, y_val), \n",
    "                            callbacks = [monitor])"
   ]
  },
  {
   "cell_type": "markdown",
   "metadata": {
    "colab_type": "text",
    "id": "xLg4BK7dgXBd"
   },
   "source": [
    "## Avaliando a Acurácia"
   ]
  },
  {
   "cell_type": "markdown",
   "metadata": {},
   "source": [
    "Verificando a acurácia do modelo nos dados de treinamento e de validação"
   ]
  },
  {
   "cell_type": "code",
   "execution_count": 34,
   "metadata": {},
   "outputs": [
    {
     "data": {
      "image/png": "[encoded data removed]",
      "text/plain": [
       "<Figure size 432x288 with 1 Axes>"
      ]
     },
     "metadata": {
      "needs_background": "light"
     },
     "output_type": "display_data"
    },
    {
     "data": {
      "image/png": "[encoded data removed]",
      "text/plain": [
       "<Figure size 432x288 with 1 Axes>"
      ]
     },
     "metadata": {
      "needs_background": "light"
     },
     "output_type": "display_data"
    }
   ],
   "source": [
    "# Plot das métricas de acurácia e perda.\n",
    "plt.figure(0)\n",
    "plt.plot(modelo_treinado.history['accuracy'], label = 'Acurácia em Treino', color = \"darkblue\")\n",
    "plt.plot(modelo_treinado.history['val_accuracy'], label = 'Acurácia em Validação', color = \"hotpink\")\n",
    "plt.title('Medindo a Acurácia do Modelo')\n",
    "plt.xlabel('Número de Epochs')\n",
    "plt.ylabel('Acurácia')\n",
    "plt.legend()\n",
    "\n",
    "plt.figure(1)\n",
    "plt.plot(modelo_treinado.history['loss'], label = 'Erro em Treino', color = \"darkblue\")\n",
    "plt.plot(modelo_treinado.history['val_loss'], label = 'Erro em Validação', color = \"hotpink\")\n",
    "plt.title('Medindo o Erro do Modelo')\n",
    "plt.xlabel('Número de Epochs')\n",
    "plt.ylabel('Erro (Loss)')\n",
    "plt.legend()\n",
    "\n",
    "# mostrando a figura\n",
    "plt.show()"
   ]
  },
  {
   "cell_type": "markdown",
   "metadata": {},
   "source": [
    "## Fazendo Previsões"
   ]
  },
  {
   "cell_type": "markdown",
   "metadata": {},
   "source": [
    "Com nosso modelo treinado, vamos fazer as previsões para os dados de teste."
   ]
  },
  {
   "cell_type": "code",
   "execution_count": 35,
   "metadata": {
    "colab": {
     "base_uri": "https://localhost:8080/",
     "height": 34
    },
    "colab_type": "code",
    "id": "fYdq8kmAgXBe",
    "outputId": "c3d34e7e-00e8-4655-8bdf-b34b4f70fb3e"
   },
   "outputs": [
    {
     "name": "stdout",
     "output_type": "stream",
     "text": [
      "Acurácia: 91.52% | Erro (Loss): 0.2355\n"
     ]
    }
   ],
   "source": [
    "# Previsões nos dados de teste\n",
    "score = model.evaluate(x_test, y_test, verbose = 0)\n",
    "print(\"Acurácia: %.2f%%\" % (score[1]*100), \"| Erro (Loss): %.4f\" % (score[0]))"
   ]
  }
 ],
 "metadata": {
  "accelerator": "GPU",
  "anaconda-cloud": {},
  "colab": {
   "collapsed_sections": [],
   "name": "CNN - MINIST2.ipynb",
   "provenance": [],
   "toc_visible": true
  },
  "kernelspec": {
   "display_name": "Python 3",
   "language": "python",
   "name": "python3"
  },
  "language_info": {
   "codemirror_mode": {
    "name": "ipython",
    "version": 3
   },
   "file_extension": ".py",
   "mimetype": "text/x-python",
   "name": "python",
   "nbconvert_exporter": "python",
   "pygments_lexer": "ipython3",
   "version": "3.7.3"
  }
 },
 "nbformat": 4,
 "nbformat_minor": 1
}
